{
 "cells": [
  {
   "cell_type": "code",
   "execution_count": 1,
   "metadata": {},
   "outputs": [
    {
     "name": "stdout",
     "output_type": "stream",
     "text": [
      "16000\n"
     ]
    }
   ],
   "source": [
    "# data extraction from https://stackoverflow.com/questions/23377665/python-scipy-fft-wav-files/23378284#23378284\n",
    "import numpy as np\n",
    "from scipy.io import wavfile\n",
    "\n",
    "sample_rate, data = wavfile.read('data/test_g.wav')\n",
    "wf = data\n",
    "# wf for waveform\n",
    "#wf = data.T[0] / max(abs(data.T[0]))\n",
    "len(wf)\n",
    "print(sample_rate)"
   ]
  },
  {
   "cell_type": "code",
   "execution_count": 2,
   "metadata": {},
   "outputs": [
    {
     "data": {
      "image/png": "[encoded data removed]",
      "text/plain": [
       "<Figure size 432x288 with 1 Axes>"
      ]
     },
     "metadata": {
      "needs_background": "light"
     },
     "output_type": "display_data"
    }
   ],
   "source": [
    "import matplotlib.pyplot as plt\n",
    "plt.plot(wf);"
   ]
  },
  {
   "cell_type": "markdown",
   "metadata": {},
   "source": [
    "# First, obtain dictionary mapping frequencies to notes"
   ]
  },
  {
   "cell_type": "code",
   "execution_count": 3,
   "metadata": {},
   "outputs": [],
   "source": [
    "import pandas as pd\n",
    "df = pd.read_csv('data/f_to_note.csv', index_col = 'f')\n",
    "f_list = list(df.index)\n",
    "f_to_note = df.to_dict()['note']\n"
   ]
  },
  {
   "cell_type": "code",
   "execution_count": 4,
   "metadata": {},
   "outputs": [],
   "source": [
    "def get_note(freq):\n",
    "    \"\"\"\n",
    "    Takes in frequency in Hz, and outputs the closest note\n",
    "    \"\"\"\n",
    "    # just load in values directly...\n",
    "    f_to_note = {16.35: 'C0', 17.32: 'C#0/Db0', 18.35: 'D0', 19.45: 'D#0/Eb0', 20.6: 'E0', 21.83: 'F0', 23.12: 'F#0/Gb0', 24.5: 'G0', 25.96: 'G#0/Ab0', 27.5: 'A0', 29.14: 'A#0/Bb0', 30.87: 'B0', 32.7: 'C1', 34.65: 'C#1/Db1', 36.71: 'D1', 38.89: 'D#1/Eb1', 41.2: 'E1', 43.65: 'F1', 46.25: 'F#1/Gb1', 49.0: 'G1', 51.91: 'G#1/Ab1', 55.0: 'A1', 58.27: 'A#1/Bb1', 61.74: 'B1', 65.41: 'C2', 69.3: 'C#2/Db2', 73.42: 'D2', 77.78: 'D#2/Eb2', 82.41: 'E2', 87.31: 'F2', 92.5: 'F#2/Gb2', 98.0: 'G2', 103.83: 'G#2/Ab2', 110.0: 'A2', 116.54: 'A#2/Bb2', 123.47: 'B2', 130.81: 'C3', 138.59: 'C#3/Db3', 146.83: 'D3', 155.56: 'D#3/Eb3', 164.81: 'E3', 174.61: 'F3', 185.0: 'F#3/Gb3', 196.0: 'G3', 207.65: 'G#3/Ab3', 220.0: 'A3', 233.08: 'A#3/Bb3', 246.94: 'B3', 261.63: 'C4', 277.18: 'C#4/Db4', 293.66: 'D4', 311.13: 'D#4/Eb4', 329.63: 'E4', 349.23: 'F4', 369.99: 'F#4/Gb4', 392.0: 'G4', 415.3: 'G#4/Ab4', 440.0: 'A4', 466.16: 'A#4/Bb4', 493.88: 'B4', 523.25: 'C5', 554.37: 'C#5/Db5', 587.33: 'D5', 622.25: 'D#5/Eb5', 659.25: 'E5', 698.46: 'F5', 739.99: 'F#5/Gb5', 783.99: 'G5', 830.61: 'G#5/Ab5', 880.0: 'A5', 932.33: 'A#5/Bb5', 987.77: 'B5', 1046.5: 'C6', 1108.73: 'C#6/Db6', 1174.66: 'D6', 1244.51: 'D#6/Eb6', 1318.51: 'E6', 1396.91: 'F6', 1479.98: 'F#6/Gb6', 1567.98: 'G6', 1661.22: 'G#6/Ab6', 1760.0: 'A6', 1864.66: 'A#6/Bb6', 1975.53: 'B6', 2093.0: 'C7', 2217.46: 'C#7/Db7', 2349.32: 'D7', 2489.02: 'D#7/Eb7', 2637.02: 'E7', 2793.83: 'F7', 2959.96: 'F#7/Gb7', 3135.96: 'G7', 3322.44: 'G#7/Ab7', 3520.0: 'A7', 3729.31: 'A#7/Bb7', 3951.07: 'B7', 4186.01: 'C8', 4434.92: 'C#8/Db8', 4698.63: 'D8', 4978.03: 'D#8/Eb8', 5274.04: 'E8', 5587.65: 'F8', 5919.91: 'F#8/Gb8', 6271.93: 'G8', 6644.88: 'G#8/Ab8', 7040.0: 'A8', 7458.62: 'A#8/Bb8', 7902.13: 'B8'}\n",
    "    f_list = [16.35, 17.32, 18.35, 19.45, 20.6, 21.83, 23.12, 24.5, 25.96, 27.5, 29.14, 30.87, 32.7, 34.65, 36.71, 38.89, 41.2, 43.65, 46.25, 49.0, 51.91, 55.0, 58.27, 61.74, 65.41, 69.3, 73.42, 77.78, 82.41, 87.31, 92.5, 98.0, 103.83, 110.0, 116.54, 123.47, 130.81, 138.59, 146.83, 155.56, 164.81, 174.61, 185.0, 196.0, 207.65, 220.0, 233.08, 246.94, 261.63, 277.18, 293.66, 311.13, 329.63, 349.23, 369.99, 392.0, 415.3, 440.0, 466.16, 493.88, 523.25, 554.37, 587.33, 622.25, 659.25, 698.46, 739.99, 783.99, 830.61, 880.0, 932.33, 987.77, 1046.5, 1108.73, 1174.66, 1244.51, 1318.51, 1396.91, 1479.98, 1567.98, 1661.22, 1760.0, 1864.66, 1975.53, 2093.0, 2217.46, 2349.32, 2489.02, 2637.02, 2793.83, 2959.96, 3135.96, 3322.44, 3520.0, 3729.31, 3951.07, 4186.01, 4434.92, 4698.63, 4978.03, 5274.04, 5587.65, 5919.91, 6271.93, 6644.88, 7040.0, 7458.62, 7902.13]\n",
    "    closest_freq_idx = np.argmin(list(map(lambda x: abs(x - freq), f_list)))\n",
    "    note = f_to_note[f_list[closest_freq_idx]]\n",
    "    return note"
   ]
  },
  {
   "cell_type": "code",
   "execution_count": 9,
   "metadata": {},
   "outputs": [],
   "source": [
    "# clean up dict to more desireable format\n",
    "f_to_note = {16.35: 'C0', 17.32: 'C#0/Db0', 18.35: 'D0', 19.45: 'D#0/Eb0', 20.6: 'E0', 21.83: 'F0', 23.12: 'F#0/Gb0', 24.5: 'G0', 25.96: 'G#0/Ab0', 27.5: 'A0', 29.14: 'A#0/Bb0', 30.87: 'B0', 32.7: 'C1', 34.65: 'C#1/Db1', 36.71: 'D1', 38.89: 'D#1/Eb1', 41.2: 'E1', 43.65: 'F1', 46.25: 'F#1/Gb1', 49.0: 'G1', 51.91: 'G#1/Ab1', 55.0: 'A1', 58.27: 'A#1/Bb1', 61.74: 'B1', 65.41: 'C2', 69.3: 'C#2/Db2', 73.42: 'D2', 77.78: 'D#2/Eb2', 82.41: 'E2', 87.31: 'F2', 92.5: 'F#2/Gb2', 98.0: 'G2', 103.83: 'G#2/Ab2', 110.0: 'A2', 116.54: 'A#2/Bb2', 123.47: 'B2', 130.81: 'C3', 138.59: 'C#3/Db3', 146.83: 'D3', 155.56: 'D#3/Eb3', 164.81: 'E3', 174.61: 'F3', 185.0: 'F#3/Gb3', 196.0: 'G3', 207.65: 'G#3/Ab3', 220.0: 'A3', 233.08: 'A#3/Bb3', 246.94: 'B3', 261.63: 'C4', 277.18: 'C#4/Db4', 293.66: 'D4', 311.13: 'D#4/Eb4', 329.63: 'E4', 349.23: 'F4', 369.99: 'F#4/Gb4', 392.0: 'G4', 415.3: 'G#4/Ab4', 440.0: 'A4', 466.16: 'A#4/Bb4', 493.88: 'B4', 523.25: 'C5', 554.37: 'C#5/Db5', 587.33: 'D5', 622.25: 'D#5/Eb5', 659.25: 'E5', 698.46: 'F5', 739.99: 'F#5/Gb5', 783.99: 'G5', 830.61: 'G#5/Ab5', 880.0: 'A5', 932.33: 'A#5/Bb5', 987.77: 'B5', 1046.5: 'C6', 1108.73: 'C#6/Db6', 1174.66: 'D6', 1244.51: 'D#6/Eb6', 1318.51: 'E6', 1396.91: 'F6', 1479.98: 'F#6/Gb6', 1567.98: 'G6', 1661.22: 'G#6/Ab6', 1760.0: 'A6', 1864.66: 'A#6/Bb6', 1975.53: 'B6', 2093.0: 'C7', 2217.46: 'C#7/Db7', 2349.32: 'D7', 2489.02: 'D#7/Eb7', 2637.02: 'E7', 2793.83: 'F7', 2959.96: 'F#7/Gb7', 3135.96: 'G7', 3322.44: 'G#7/Ab7', 3520.0: 'A7', 3729.31: 'A#7/Bb7', 3951.07: 'B7', 4186.01: 'C8', 4434.92: 'C#8/Db8', 4698.63: 'D8', 4978.03: 'D#8/Eb8', 5274.04: 'E8', 5587.65: 'F8', 5919.91: 'F#8/Gb8', 6271.93: 'G8', 6644.88: 'G#8/Ab8', 7040.0: 'A8', 7458.62: 'A#8/Bb8', 7902.13: 'B8'}\n",
    "\n",
    "# get rid of octave labels\n",
    "for key, value in f_to_note.items():\n",
    "    for i in range(9):\n",
    "        value = value.replace(str(i), '')\n",
    "    f_to_note[key] = value\n"
   ]
  },
  {
   "cell_type": "markdown",
   "metadata": {},
   "source": [
    "# Method 1: Just FFT"
   ]
  },
  {
   "cell_type": "code",
   "execution_count": 10,
   "metadata": {},
   "outputs": [
    {
     "name": "stdout",
     "output_type": "stream",
     "text": [
      "['G2', 'B4', 'B4', 'G2', 'D3', 'G3', 'G3', 'G3', 'G3', 'G3', 'G3', 'G3', 'G3', 'G3', 'B3', 'G3', 'G3', 'G4', 'G3', 'B4', 'B4', 'G3', 'G2', 'B3', 'B3', 'B3', 'G2', 'B2', 'G3', 'G3', 'B3', 'G3', 'B3', 'D4', 'G3', 'G4', 'B3', 'G3', 'G4', 'G3', 'G3', 'G3', 'D3', 'G3', 'D3', 'D4', 'G2', 'B4', 'B3', 'G3', 'B3', 'G4', 'B3', 'G2', 'G3', 'B4', 'B4', 'B2', 'B3', 'B4', 'G4', 'B2', 'B4', 'G4', 'F#5/Gb5', 'F#5/Gb5', 'B4', 'G3', 'B3', 'D4', 'F#5/Gb5', 'G2', 'B3', 'G3', 'D4', 'G2', 'G4', 'D3', 'G4', 'G3', 'G2', 'F#5/Gb5', 'B3', 'B4', 'G2', 'B3', 'B2', 'D3', 'G3', 'G3', 'G3', 'B4', 'G2', 'G#3/Ab3', 'G3', 'G4', 'G3', 'G2', 'G#3/Ab3', 'G#3/Ab3']\n"
     ]
    },
    {
     "data": {
      "image/png": "[encoded data removed]",
      "text/plain": [
       "<Figure size 432x288 with 1 Axes>"
      ]
     },
     "metadata": {
      "needs_background": "light"
     },
     "output_type": "display_data"
    }
   ],
   "source": [
    "# fft, but using PSD\n",
    "from scipy import fft\n",
    "\n",
    "samples = len(data)\n",
    "\n",
    "# fourier transform\n",
    "fhat = fft.fft(wf)\n",
    "PSD = (fhat * np.conj(fhat))\n",
    "freq = fft.fftfreq(samples, 1 / sample_rate)\n",
    "pos_freq = freq[freq >= 0]\n",
    "pos_PSD = PSD[freq >= 0]\n",
    "\n",
    "plt.plot(pos_freq[:5000], pos_PSD[:5000]);\n",
    "plt.plot()\n",
    "\n",
    "# # find max\n",
    "# print(pos_freq[np.argmax(pos_PSD)])\n",
    "\n",
    "# https://stackoverflow.com/questions/6910641/how-do-i-get-indices-of-n-maximum-values-in-a-numpy-array\n",
    "max_freqs = pos_freq[pos_PSD.argsort()[-100:][::-1]]\n",
    "print(list(map(get_note, max_freqs)))"
   ]
  },
  {
   "cell_type": "markdown",
   "metadata": {},
   "source": [
    "# Method 2: Spectrogram"
   ]
  },
  {
   "cell_type": "markdown",
   "metadata": {},
   "source": [
    "Most of the adjustments here comes from working around the frequency vs time uncertainty principle, although it is also worth testing out functions other than a simple Gaussian for the convolution."
   ]
  },
  {
   "cell_type": "code",
   "execution_count": 7,
   "metadata": {},
   "outputs": [
    {
     "name": "stderr",
     "output_type": "stream",
     "text": [
      "C:\\Users\\micha\\Miniconda3\\lib\\site-packages\\ipykernel_launcher.py:3: MatplotlibDeprecationWarning: shading='flat' when X and Y have the same dimensions as C is deprecated since 3.3.  Either specify the corners of the quadrilaterals with X and Y, or pass shading='auto', 'nearest' or 'gouraud', or set rcParams['pcolor.shading'].  This will become an error two minor releases later.\n",
      "  This is separate from the ipykernel package so we can avoid doing imports until\n"
     ]
    },
    {
     "data": {
      "image/png": "[encoded data removed]",
      "text/plain": [
       "<Figure size 432x288 with 2 Axes>"
      ]
     },
     "metadata": {
      "needs_background": "light"
     },
     "output_type": "display_data"
    },
    {
     "name": "stdout",
     "output_type": "stream",
     "text": [
      "(606, 22)\n",
      "193.92000000000002 2.875 G3\n",
      "freq spacing: 0.32\n",
      "time spacing: 0.25\n"
     ]
    }
   ],
   "source": [
    "from scipy import signal\n",
    "f, t, Sxx = signal.spectrogram(wf, sample_rate, noverlap=2000, nperseg=4000, nfft=50000)\n",
    "plt.pcolormesh(t, f[:1000], Sxx[:1000, :])\n",
    "plt.colorbar()\n",
    "plt.show()\n",
    "max_idx = np.unravel_index(Sxx.argmax(), Sxx.shape)\n",
    "print(max_idx)\n",
    "print(f[max_idx[0]], t[max_idx[1]], get_note(f[max_idx[0]]))\n",
    "print(f'freq spacing: {f[1]}')\n",
    "print(f'time spacing: {t[1]}')"
   ]
  },
  {
   "cell_type": "code",
   "execution_count": 8,
   "metadata": {},
   "outputs": [
    {
     "name": "stdout",
     "output_type": "stream",
     "text": [
      "[28 42 41 43 14 29 56 55 57 44]\n",
      "['C0', 'C0', 'C0', 'C0', 'C0', 'C0', 'D0', 'C#0/Db0', 'D0', 'C0']\n",
      "193.6 2.875 G3\n"
     ]
    }
   ],
   "source": [
    "# probably not worth pursuing\n",
    "\n",
    "from scipy import linalg\n",
    "\n",
    "# should def truncate before svd for efficiency, but thats a problem for later\n",
    "U, S, Vt = linalg.svd(Sxx[:1000])\n",
    "\n",
    "max_freqs = f[U[:, 0].argsort()[-10:][::-1]]\n",
    "print(U[:, 0].argsort()[-10:][::-1])\n",
    "print(list(map(get_note, max_freqs)))\n",
    "\n",
    "test = U[:, :1] @ np.diag(S[:1]) @ Vt[:1]\n",
    "max_idx = np.unravel_index(test.argmax(), test.shape)\n",
    "print(f[max_idx[0]], t[max_idx[1]], get_note(f[max_idx[0]]))\n",
    "\n",
    "# maybe try some extra filtering. Before, though, let's test out a wavelet transform \n",
    "#print(U[:, 0])"
   ]
  },
  {
   "cell_type": "markdown",
   "metadata": {},
   "source": [
    "# Method 3: Some kinda wavelet transform"
   ]
  },
  {
   "cell_type": "code",
   "execution_count": null,
   "metadata": {},
   "outputs": [],
   "source": [
    "from scipy import signal\n",
    "\n"
   ]
  }
 ],
 "metadata": {
  "kernelspec": {
   "display_name": "Python 3",
   "language": "python",
   "name": "python3"
  },
  "language_info": {
   "codemirror_mode": {
    "name": "ipython",
    "version": 3
   },
   "file_extension": ".py",
   "mimetype": "text/x-python",
   "name": "python",
   "nbconvert_exporter": "python",
   "pygments_lexer": "ipython3",
   "version": "3.7.7"
  }
 },
 "nbformat": 4,
 "nbformat_minor": 4
}
